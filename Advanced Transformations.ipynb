{
 "cells": [
  {
   "cell_type": "markdown",
   "id": "100b6abb",
   "metadata": {},
   "source": [
    "# Goal\n",
    "- We want to create a map with every restaurant plotted as a scatter plot with detailedinformation that appears when we hover over the business.\n",
    "\n",
    "- We will use plotly express\"s px.scatter_mapbox function to accomplish this.\n",
    "\n",
    "- - https://plotly.com/python/scattermapbox/\n",
    "\n",
    "- - Some of the options require a **Mapbox API Token**.\n",
    "- - However we will be using option that do not require a token.\n",
    "- - https://studio.mapbox.com/"
   ]
  },
  {
   "cell_type": "markdown",
   "id": "9cedcb0e",
   "metadata": {},
   "source": [
    "# Loading Data from part 1"
   ]
  },
  {
   "cell_type": "code",
   "execution_count": 1,
   "id": "6be50eb7",
   "metadata": {},
   "outputs": [
    {
     "name": "stdout",
     "output_type": "stream",
     "text": [
      "Requirement already satisfied: plotly in c:\\anaconda\\envs\\dojo-env\\lib\\site-packages (5.11.0)\n",
      "Requirement already satisfied: tenacity>=6.2.0 in c:\\anaconda\\envs\\dojo-env\\lib\\site-packages (from plotly) (8.1.0)\n",
      "\n",
      "Second Install\n",
      "Requirement already satisfied: plotly-express in c:\\anaconda\\envs\\dojo-env\\lib\\site-packages (0.4.1)\n",
      "Requirement already satisfied: patsy>=0.5 in c:\\anaconda\\envs\\dojo-env\\lib\\site-packages (from plotly-express) (0.5.2)\n",
      "Requirement already satisfied: scipy>=0.18 in c:\\anaconda\\envs\\dojo-env\\lib\\site-packages (from plotly-express) (1.9.3)\n",
      "Requirement already satisfied: statsmodels>=0.9.0 in c:\\anaconda\\envs\\dojo-env\\lib\\site-packages (from plotly-express) (0.13.2)\n",
      "Requirement already satisfied: numpy>=1.11 in c:\\anaconda\\envs\\dojo-env\\lib\\site-packages (from plotly-express) (1.23.4)\n",
      "Requirement already satisfied: pandas>=0.20.0 in c:\\anaconda\\envs\\dojo-env\\lib\\site-packages (from plotly-express) (1.5.2)\n",
      "Requirement already satisfied: plotly>=4.1.0 in c:\\anaconda\\envs\\dojo-env\\lib\\site-packages (from plotly-express) (5.11.0)\n",
      "Requirement already satisfied: pytz>=2020.1 in c:\\anaconda\\envs\\dojo-env\\lib\\site-packages (from pandas>=0.20.0->plotly-express) (2022.1)\n",
      "Requirement already satisfied: python-dateutil>=2.8.1 in c:\\anaconda\\envs\\dojo-env\\lib\\site-packages (from pandas>=0.20.0->plotly-express) (2.8.2)\n",
      "Requirement already satisfied: six in c:\\anaconda\\envs\\dojo-env\\lib\\site-packages (from patsy>=0.5->plotly-express) (1.16.0)\n",
      "Requirement already satisfied: tenacity>=6.2.0 in c:\\anaconda\\envs\\dojo-env\\lib\\site-packages (from plotly>=4.1.0->plotly-express) (8.1.0)\n",
      "Requirement already satisfied: packaging>=21.3 in c:\\anaconda\\envs\\dojo-env\\lib\\site-packages (from statsmodels>=0.9.0->plotly-express) (21.3)\n",
      "Requirement already satisfied: pyparsing!=3.0.5,>=2.0.2 in c:\\anaconda\\envs\\dojo-env\\lib\\site-packages (from packaging>=21.3->statsmodels>=0.9.0->plotly-express) (3.0.9)\n"
     ]
    }
   ],
   "source": [
    "## plotly is not included on your dojo-enviroment:\n",
    "\n",
    "# Install Plotly:\n",
    "!pip install plotly\n",
    "\n",
    "# If you face any errors when only trying the install above, use \n",
    "## this one:\n",
    "print(\"\\nSecond Install\")\n",
    "!pip install plotly-express\n"
   ]
  },
  {
   "cell_type": "markdown",
   "id": "99d73260",
   "metadata": {},
   "source": [
    "- Import Libraries:"
   ]
  },
  {
   "cell_type": "code",
   "execution_count": 5,
   "id": "c517bd75",
   "metadata": {},
   "outputs": [
    {
     "name": "stdout",
     "output_type": "stream",
     "text": [
      "Imports Done\n"
     ]
    }
   ],
   "source": [
    "# Standard Imports\n",
    "import numpy as np \n",
    "import pandas as pd\n",
    "import matplotlib.pyplot as plt\n",
    "import seaborn as sns\n",
    "\n",
    "import json as js\n",
    "\n",
    "# Import plotly:\n",
    "import plotly.express as px\n",
    "\n",
    "print(\"Imports Done\")"
   ]
  },
  {
   "cell_type": "markdown",
   "id": "3bba3ae0",
   "metadata": {},
   "source": [
    "- Load CSV file:"
   ]
  },
  {
   "cell_type": "code",
   "execution_count": null,
   "id": "3afd4e7c",
   "metadata": {},
   "outputs": [],
   "source": []
  },
  {
   "cell_type": "code",
   "execution_count": null,
   "id": "31452270",
   "metadata": {},
   "outputs": [],
   "source": []
  }
 ],
 "metadata": {
  "kernelspec": {
   "display_name": "Python (dojo-env)",
   "language": "python",
   "name": "dojo-env"
  },
  "language_info": {
   "codemirror_mode": {
    "name": "ipython",
    "version": 3
   },
   "file_extension": ".py",
   "mimetype": "text/x-python",
   "name": "python",
   "nbconvert_exporter": "python",
   "pygments_lexer": "ipython3",
   "version": "3.9.15"
  },
  "toc": {
   "base_numbering": 1,
   "nav_menu": {},
   "number_sections": true,
   "sideBar": true,
   "skip_h1_title": false,
   "title_cell": "Table of Contents",
   "title_sidebar": "Contents",
   "toc_cell": false,
   "toc_position": {},
   "toc_section_display": true,
   "toc_window_display": false
  }
 },
 "nbformat": 4,
 "nbformat_minor": 5
}
